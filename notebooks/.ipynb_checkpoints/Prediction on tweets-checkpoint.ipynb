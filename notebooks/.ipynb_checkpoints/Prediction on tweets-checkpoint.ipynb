{
 "cells": [
  {
   "cell_type": "markdown",
   "id": "1e59a9a9",
   "metadata": {},
   "source": [
    "## Predict if tweets are about real disaster or not \n",
    " >Assignment from <b>Fleek</b>"
   ]
  },
  {
   "cell_type": "markdown",
   "id": "22601687",
   "metadata": {},
   "source": [
    "#### Neccessary Imports"
   ]
  },
  {
   "cell_type": "code",
   "execution_count": 1,
   "id": "dfd92170",
   "metadata": {},
   "outputs": [
    {
     "name": "stderr",
     "output_type": "stream",
     "text": [
      "[nltk_data] Downloading package stopwords to\n",
      "[nltk_data]     /Users/nitika/nltk_data...\n",
      "[nltk_data]   Package stopwords is already up-to-date!\n"
     ]
    }
   ],
   "source": [
    "import pandas as pd\n",
    "import numpy as np\n",
    "import os\n",
    "import string\n",
    "import re\n",
    "import matplotlib.pyplot as plt \n",
    "import seaborn as sns\n",
    "import nltk\n",
    "nltk.download('stopwords')\n",
    "from nltk.corpus import stopwords\n",
    "from nltk.stem.snowball import SnowballStemmer\n",
    "from sklearn.model_selection import train_test_split\n",
    "from sklearn.feature_extraction.text import TfidfVectorizer\n",
    "from sklearn.linear_model import LogisticRegression\n",
    "from sklearn.model_selection import GridSearchCV\n",
    "from sklearn.model_selection import cross_val_score\n",
    "from datetime import datetime\n",
    "from sklearn.feature_extraction.text import CountVectorizer\n",
    "from sklearn.metrics import f1_score,precision_score,recall_score\n",
    "from sklearn import svm\n",
    "from datetime import datetime\n",
    "import pickle\n",
    "from sklearn.linear_model import LogisticRegression\n",
    "from sklearn.ensemble import RandomForestClassifier\n",
    "from sklearn import metrics\n",
    "import joblib\n",
    "DATA_DIR = '../dataset/'"
   ]
  },
  {
   "cell_type": "markdown",
   "id": "6fd54ca5",
   "metadata": {},
   "source": [
    "#### Loading dataset"
   ]
  },
  {
   "cell_type": "code",
   "execution_count": 2,
   "id": "ff8e9c31",
   "metadata": {},
   "outputs": [],
   "source": [
    "data = pd.read_csv(os.path.join(DATA_DIR,'train.csv'))"
   ]
  },
  {
   "cell_type": "markdown",
   "id": "31936049",
   "metadata": {},
   "source": [
    "#### Get Basic Info about data"
   ]
  },
  {
   "cell_type": "code",
   "execution_count": 3,
   "id": "64db6e86",
   "metadata": {},
   "outputs": [
    {
     "data": {
      "text/plain": [
       "(7613, 5)"
      ]
     },
     "execution_count": 3,
     "metadata": {},
     "output_type": "execute_result"
    }
   ],
   "source": [
    "data.shape"
   ]
  },
  {
   "cell_type": "code",
   "execution_count": 4,
   "id": "8b76b887",
   "metadata": {},
   "outputs": [
    {
     "data": {
      "text/html": [
       "<div>\n",
       "<style scoped>\n",
       "    .dataframe tbody tr th:only-of-type {\n",
       "        vertical-align: middle;\n",
       "    }\n",
       "\n",
       "    .dataframe tbody tr th {\n",
       "        vertical-align: top;\n",
       "    }\n",
       "\n",
       "    .dataframe thead th {\n",
       "        text-align: right;\n",
       "    }\n",
       "</style>\n",
       "<table border=\"1\" class=\"dataframe\">\n",
       "  <thead>\n",
       "    <tr style=\"text-align: right;\">\n",
       "      <th></th>\n",
       "      <th>id</th>\n",
       "      <th>keyword</th>\n",
       "      <th>location</th>\n",
       "      <th>text</th>\n",
       "      <th>target</th>\n",
       "    </tr>\n",
       "  </thead>\n",
       "  <tbody>\n",
       "    <tr>\n",
       "      <th>0</th>\n",
       "      <td>1</td>\n",
       "      <td>NaN</td>\n",
       "      <td>NaN</td>\n",
       "      <td>Our Deeds are the Reason of this #earthquake M...</td>\n",
       "      <td>1</td>\n",
       "    </tr>\n",
       "    <tr>\n",
       "      <th>1</th>\n",
       "      <td>4</td>\n",
       "      <td>NaN</td>\n",
       "      <td>NaN</td>\n",
       "      <td>Forest fire near La Ronge Sask. Canada</td>\n",
       "      <td>1</td>\n",
       "    </tr>\n",
       "    <tr>\n",
       "      <th>2</th>\n",
       "      <td>5</td>\n",
       "      <td>NaN</td>\n",
       "      <td>NaN</td>\n",
       "      <td>All residents asked to 'shelter in place' are ...</td>\n",
       "      <td>1</td>\n",
       "    </tr>\n",
       "    <tr>\n",
       "      <th>3</th>\n",
       "      <td>6</td>\n",
       "      <td>NaN</td>\n",
       "      <td>NaN</td>\n",
       "      <td>13,000 people receive #wildfires evacuation or...</td>\n",
       "      <td>1</td>\n",
       "    </tr>\n",
       "    <tr>\n",
       "      <th>4</th>\n",
       "      <td>7</td>\n",
       "      <td>NaN</td>\n",
       "      <td>NaN</td>\n",
       "      <td>Just got sent this photo from Ruby #Alaska as ...</td>\n",
       "      <td>1</td>\n",
       "    </tr>\n",
       "  </tbody>\n",
       "</table>\n",
       "</div>"
      ],
      "text/plain": [
       "   id keyword location                                               text  \\\n",
       "0   1     NaN      NaN  Our Deeds are the Reason of this #earthquake M...   \n",
       "1   4     NaN      NaN             Forest fire near La Ronge Sask. Canada   \n",
       "2   5     NaN      NaN  All residents asked to 'shelter in place' are ...   \n",
       "3   6     NaN      NaN  13,000 people receive #wildfires evacuation or...   \n",
       "4   7     NaN      NaN  Just got sent this photo from Ruby #Alaska as ...   \n",
       "\n",
       "   target  \n",
       "0       1  \n",
       "1       1  \n",
       "2       1  \n",
       "3       1  \n",
       "4       1  "
      ]
     },
     "execution_count": 4,
     "metadata": {},
     "output_type": "execute_result"
    }
   ],
   "source": [
    "data.head()"
   ]
  },
  {
   "cell_type": "code",
   "execution_count": 5,
   "id": "ec004a45",
   "metadata": {},
   "outputs": [
    {
     "data": {
      "text/plain": [
       "id           int64\n",
       "keyword     object\n",
       "location    object\n",
       "text        object\n",
       "target       int64\n",
       "dtype: object"
      ]
     },
     "execution_count": 5,
     "metadata": {},
     "output_type": "execute_result"
    }
   ],
   "source": [
    "data.dtypes"
   ]
  },
  {
   "cell_type": "markdown",
   "id": "6645a4da",
   "metadata": {},
   "source": [
    "#### Find null values percentage for each column"
   ]
  },
  {
   "cell_type": "code",
   "execution_count": 6,
   "id": "1439d9a9",
   "metadata": {},
   "outputs": [
    {
     "data": {
      "text/plain": [
       "id           0.000000\n",
       "keyword      0.801261\n",
       "location    33.272035\n",
       "text         0.000000\n",
       "target       0.000000\n",
       "dtype: float64"
      ]
     },
     "execution_count": 6,
     "metadata": {},
     "output_type": "execute_result"
    }
   ],
   "source": [
    "data.isnull().sum() * 100 / len(data)"
   ]
  },
  {
   "cell_type": "markdown",
   "id": "7b5af65a",
   "metadata": {},
   "source": [
    "> Since, location column has 33% missing values we will be dropping this column.<br>Also, id column has no significance , we will be dropping it too<br> keyword contains the words which are already present in the tweets so will be dropping keyword column also"
   ]
  },
  {
   "cell_type": "code",
   "execution_count": 7,
   "id": "f9e26818",
   "metadata": {},
   "outputs": [],
   "source": [
    "data.drop(['id','location','keyword'],axis=1,inplace=True)"
   ]
  },
  {
   "cell_type": "code",
   "execution_count": 8,
   "id": "35329895",
   "metadata": {},
   "outputs": [
    {
     "data": {
      "text/html": [
       "<div>\n",
       "<style scoped>\n",
       "    .dataframe tbody tr th:only-of-type {\n",
       "        vertical-align: middle;\n",
       "    }\n",
       "\n",
       "    .dataframe tbody tr th {\n",
       "        vertical-align: top;\n",
       "    }\n",
       "\n",
       "    .dataframe thead th {\n",
       "        text-align: right;\n",
       "    }\n",
       "</style>\n",
       "<table border=\"1\" class=\"dataframe\">\n",
       "  <thead>\n",
       "    <tr style=\"text-align: right;\">\n",
       "      <th></th>\n",
       "      <th>text</th>\n",
       "      <th>target</th>\n",
       "    </tr>\n",
       "  </thead>\n",
       "  <tbody>\n",
       "    <tr>\n",
       "      <th>0</th>\n",
       "      <td>Our Deeds are the Reason of this #earthquake M...</td>\n",
       "      <td>1</td>\n",
       "    </tr>\n",
       "    <tr>\n",
       "      <th>1</th>\n",
       "      <td>Forest fire near La Ronge Sask. Canada</td>\n",
       "      <td>1</td>\n",
       "    </tr>\n",
       "    <tr>\n",
       "      <th>2</th>\n",
       "      <td>All residents asked to 'shelter in place' are ...</td>\n",
       "      <td>1</td>\n",
       "    </tr>\n",
       "    <tr>\n",
       "      <th>3</th>\n",
       "      <td>13,000 people receive #wildfires evacuation or...</td>\n",
       "      <td>1</td>\n",
       "    </tr>\n",
       "    <tr>\n",
       "      <th>4</th>\n",
       "      <td>Just got sent this photo from Ruby #Alaska as ...</td>\n",
       "      <td>1</td>\n",
       "    </tr>\n",
       "  </tbody>\n",
       "</table>\n",
       "</div>"
      ],
      "text/plain": [
       "                                                text  target\n",
       "0  Our Deeds are the Reason of this #earthquake M...       1\n",
       "1             Forest fire near La Ronge Sask. Canada       1\n",
       "2  All residents asked to 'shelter in place' are ...       1\n",
       "3  13,000 people receive #wildfires evacuation or...       1\n",
       "4  Just got sent this photo from Ruby #Alaska as ...       1"
      ]
     },
     "execution_count": 8,
     "metadata": {},
     "output_type": "execute_result"
    }
   ],
   "source": [
    "data.head()"
   ]
  },
  {
   "cell_type": "markdown",
   "id": "dc26c04a",
   "metadata": {},
   "source": [
    "#### Before feeding the data into model lets clean the data"
   ]
  },
  {
   "cell_type": "markdown",
   "id": "233bccfb",
   "metadata": {},
   "source": [
    "#### Tweets before cleaning"
   ]
  },
  {
   "cell_type": "code",
   "execution_count": 9,
   "id": "63a28f6e",
   "metadata": {},
   "outputs": [
    {
     "name": "stdout",
     "output_type": "stream",
     "text": [
      "Our Deeds are the Reason of this #earthquake May ALLAH Forgive us all\n",
      "----------\n",
      "Forest fire near La Ronge Sask. Canada\n",
      "----------\n",
      "All residents asked to 'shelter in place' are being notified by officers. No other evacuation or shelter in place orders are expected\n",
      "----------\n",
      "13,000 people receive #wildfires evacuation orders in California \n",
      "----------\n",
      "Just got sent this photo from Ruby #Alaska as smoke from #wildfires pours into a school \n",
      "----------\n",
      "#RockyFire Update => California Hwy. 20 closed in both directions due to Lake County fire - #CAfire #wildfires\n",
      "----------\n",
      "#flood #disaster Heavy rain causes flash flooding of streets in Manitou, Colorado Springs areas\n",
      "----------\n",
      "I'm on top of the hill and I can see a fire in the woods...\n",
      "----------\n",
      "There's an emergency evacuation happening now in the building across the street\n",
      "----------\n",
      "I'm afraid that the tornado is coming to our area...\n",
      "----------\n"
     ]
    }
   ],
   "source": [
    "for i in range(0,10):\n",
    "    print(data['text'].iloc[i])\n",
    "    print(\"-\"*10)"
   ]
  },
  {
   "cell_type": "code",
   "execution_count": 10,
   "id": "7dc94f75",
   "metadata": {},
   "outputs": [],
   "source": [
    "def clean_tweets(text):\n",
    "    #remove urls\n",
    "    text = re.sub(r'http\\S+', '', text, flags=re.MULTILINE)\n",
    "    #keeping only english characters\n",
    "    text = re.sub(\"[^a-zA-Z]\",\" \",text)\n",
    "    #stripping extra white-spaces\n",
    "    text = ' '.join(text.split()) \n",
    "    #lowercase text \n",
    "    text = text.lower()\n",
    "    return text"
   ]
  },
  {
   "cell_type": "code",
   "execution_count": 11,
   "id": "c106d708",
   "metadata": {},
   "outputs": [],
   "source": [
    "data['text_cleaned'] = data['text'].apply(lambda x : clean_tweets(x))"
   ]
  },
  {
   "cell_type": "code",
   "execution_count": 12,
   "id": "4fff31e5",
   "metadata": {},
   "outputs": [
    {
     "data": {
      "text/html": [
       "<div>\n",
       "<style scoped>\n",
       "    .dataframe tbody tr th:only-of-type {\n",
       "        vertical-align: middle;\n",
       "    }\n",
       "\n",
       "    .dataframe tbody tr th {\n",
       "        vertical-align: top;\n",
       "    }\n",
       "\n",
       "    .dataframe thead th {\n",
       "        text-align: right;\n",
       "    }\n",
       "</style>\n",
       "<table border=\"1\" class=\"dataframe\">\n",
       "  <thead>\n",
       "    <tr style=\"text-align: right;\">\n",
       "      <th></th>\n",
       "      <th>text</th>\n",
       "      <th>target</th>\n",
       "      <th>text_cleaned</th>\n",
       "    </tr>\n",
       "  </thead>\n",
       "  <tbody>\n",
       "    <tr>\n",
       "      <th>0</th>\n",
       "      <td>Our Deeds are the Reason of this #earthquake M...</td>\n",
       "      <td>1</td>\n",
       "      <td>our deeds are the reason of this earthquake ma...</td>\n",
       "    </tr>\n",
       "    <tr>\n",
       "      <th>1</th>\n",
       "      <td>Forest fire near La Ronge Sask. Canada</td>\n",
       "      <td>1</td>\n",
       "      <td>forest fire near la ronge sask canada</td>\n",
       "    </tr>\n",
       "    <tr>\n",
       "      <th>2</th>\n",
       "      <td>All residents asked to 'shelter in place' are ...</td>\n",
       "      <td>1</td>\n",
       "      <td>all residents asked to shelter in place are be...</td>\n",
       "    </tr>\n",
       "    <tr>\n",
       "      <th>3</th>\n",
       "      <td>13,000 people receive #wildfires evacuation or...</td>\n",
       "      <td>1</td>\n",
       "      <td>people receive wildfires evacuation orders in ...</td>\n",
       "    </tr>\n",
       "    <tr>\n",
       "      <th>4</th>\n",
       "      <td>Just got sent this photo from Ruby #Alaska as ...</td>\n",
       "      <td>1</td>\n",
       "      <td>just got sent this photo from ruby alaska as s...</td>\n",
       "    </tr>\n",
       "  </tbody>\n",
       "</table>\n",
       "</div>"
      ],
      "text/plain": [
       "                                                text  target  \\\n",
       "0  Our Deeds are the Reason of this #earthquake M...       1   \n",
       "1             Forest fire near La Ronge Sask. Canada       1   \n",
       "2  All residents asked to 'shelter in place' are ...       1   \n",
       "3  13,000 people receive #wildfires evacuation or...       1   \n",
       "4  Just got sent this photo from Ruby #Alaska as ...       1   \n",
       "\n",
       "                                        text_cleaned  \n",
       "0  our deeds are the reason of this earthquake ma...  \n",
       "1              forest fire near la ronge sask canada  \n",
       "2  all residents asked to shelter in place are be...  \n",
       "3  people receive wildfires evacuation orders in ...  \n",
       "4  just got sent this photo from ruby alaska as s...  "
      ]
     },
     "execution_count": 12,
     "metadata": {},
     "output_type": "execute_result"
    }
   ],
   "source": [
    "data.head()"
   ]
  },
  {
   "cell_type": "markdown",
   "id": "9e71d7e3",
   "metadata": {},
   "source": [
    "#### Tweets after cleaning"
   ]
  },
  {
   "cell_type": "code",
   "execution_count": 13,
   "id": "f86e9c9f",
   "metadata": {},
   "outputs": [
    {
     "name": "stdout",
     "output_type": "stream",
     "text": [
      "our deeds are the reason of this earthquake may allah forgive us all\n",
      "----------\n",
      "forest fire near la ronge sask canada\n",
      "----------\n",
      "all residents asked to shelter in place are being notified by officers no other evacuation or shelter in place orders are expected\n",
      "----------\n",
      "people receive wildfires evacuation orders in california\n",
      "----------\n",
      "just got sent this photo from ruby alaska as smoke from wildfires pours into a school\n",
      "----------\n",
      "rockyfire update california hwy closed in both directions due to lake county fire cafire wildfires\n",
      "----------\n",
      "flood disaster heavy rain causes flash flooding of streets in manitou colorado springs areas\n",
      "----------\n",
      "i m on top of the hill and i can see a fire in the woods\n",
      "----------\n",
      "there s an emergency evacuation happening now in the building across the street\n",
      "----------\n",
      "i m afraid that the tornado is coming to our area\n",
      "----------\n"
     ]
    }
   ],
   "source": [
    "for i in range(0,10):\n",
    "    print(data['text_cleaned'].iloc[i])\n",
    "    print(\"-\"*10)"
   ]
  },
  {
   "cell_type": "markdown",
   "id": "d200b1f2",
   "metadata": {},
   "source": [
    "#### EDA"
   ]
  },
  {
   "cell_type": "markdown",
   "id": "36ff0691",
   "metadata": {},
   "source": [
    "##### Checking the frequency of each target class"
   ]
  },
  {
   "cell_type": "code",
   "execution_count": 14,
   "id": "84339e5e",
   "metadata": {},
   "outputs": [
    {
     "name": "stderr",
     "output_type": "stream",
     "text": [
      "/usr/local/lib/python3.9/site-packages/seaborn/_decorators.py:36: FutureWarning: Pass the following variable as a keyword arg: x. From version 0.12, the only valid positional argument will be `data`, and passing other arguments without an explicit keyword will result in an error or misinterpretation.\n",
      "  warnings.warn(\n"
     ]
    },
    {
     "data": {
      "text/plain": [
       "<AxesSubplot:xlabel='target', ylabel='count'>"
      ]
     },
     "execution_count": 14,
     "metadata": {},
     "output_type": "execute_result"
    },
    {
     "data": {
      "image/png": "[encoded data removed]",
      "text/plain": [
       "<Figure size 1080x504 with 1 Axes>"
      ]
     },
     "metadata": {
      "needs_background": "light"
     },
     "output_type": "display_data"
    }
   ],
   "source": [
    "plt.figure(figsize=(15,7)) \n",
    "sns.countplot(data['target'])"
   ]
  },
  {
   "cell_type": "markdown",
   "id": "eafebaad",
   "metadata": {},
   "source": [
    "#### Visualization of most frequent words in the tweets"
   ]
  },
  {
   "cell_type": "code",
   "execution_count": 15,
   "id": "35c9f99c",
   "metadata": {},
   "outputs": [
    {
     "data": {
      "image/png": "[encoded data removed]",
      "text/plain": [
       "<Figure size 864x1080 with 1 Axes>"
      ]
     },
     "metadata": {
      "needs_background": "light"
     },
     "output_type": "display_data"
    }
   ],
   "source": [
    "def freq_words(x, terms = 30): \n",
    "    all_words = ' '.join([text for text in x]) \n",
    "    all_words = all_words.split() \n",
    "    fdist = nltk.FreqDist(all_words) \n",
    "    words_df = pd.DataFrame({'word':list(fdist.keys()), 'count':list(fdist.values())}) \n",
    "    # selecting top 20 most frequent words \n",
    "    d = words_df.nlargest(columns=\"count\", n = terms) \n",
    "    # visualize words and frequencies\n",
    "    plt.figure(figsize=(12,15)) \n",
    "    ax = sns.barplot(data=d, x= \"count\", y = \"word\") \n",
    "    ax.set(ylabel = 'Word') \n",
    "    plt.show()\n",
    "    # print 100 most frequent words \n",
    "freq_words(data['text_cleaned'], 100)"
   ]
  },
  {
   "cell_type": "markdown",
   "id": "2f9fa2cf",
   "metadata": {},
   "source": [
    "> As expected, stopwords are the most frequent word in tweets. Supports the hypothesis of English language."
   ]
  },
  {
   "cell_type": "markdown",
   "id": "41aa20e4",
   "metadata": {},
   "source": [
    "#### Removing stopwords and performing stemming"
   ]
  },
  {
   "cell_type": "code",
   "execution_count": 16,
   "id": "7a4b4af8",
   "metadata": {},
   "outputs": [],
   "source": [
    "stop_words = set(stopwords.words('english'))\n",
    "\n",
    "def remove_stopwords(text):\n",
    "    no_stopword_text = [w for w in text.split() if not w in stop_words]\n",
    "    return ' '.join(no_stopword_text)\n",
    "\n",
    "data['text_cleaned'] = data['text_cleaned'].apply(lambda x: remove_stopwords(x))"
   ]
  },
  {
   "cell_type": "code",
   "execution_count": 17,
   "id": "9e4c74b6",
   "metadata": {},
   "outputs": [
    {
     "data": {
      "text/plain": [
       "0         deeds reason earthquake may allah forgive us\n",
       "1                forest fire near la ronge sask canada\n",
       "2    residents asked shelter place notified officer...\n",
       "3    people receive wildfires evacuation orders cal...\n",
       "4    got sent photo ruby alaska smoke wildfires pou...\n",
       "Name: text_cleaned, dtype: object"
      ]
     },
     "execution_count": 17,
     "metadata": {},
     "output_type": "execute_result"
    }
   ],
   "source": [
    "data['text_cleaned'].head()"
   ]
  },
  {
   "cell_type": "code",
   "execution_count": 18,
   "id": "7110c15b",
   "metadata": {},
   "outputs": [],
   "source": [
    "def stem_corpus(text):\n",
    "    stemmer = SnowballStemmer(\"english\")\n",
    "    return stemmer.stem(text)\n",
    "data['text_cleaned'] = data['text_cleaned'].apply(lambda x: stem_corpus(x))"
   ]
  },
  {
   "cell_type": "markdown",
   "id": "79523e00",
   "metadata": {},
   "source": [
    "#### Visualizing frequency of words after common words(stop words) are removed."
   ]
  },
  {
   "cell_type": "code",
   "execution_count": 19,
   "id": "a6824bc5",
   "metadata": {},
   "outputs": [
    {
     "data": {
      "image/png": "[encoded data removed]",
      "text/plain": [
       "<Figure size 864x1080 with 1 Axes>"
      ]
     },
     "metadata": {
      "needs_background": "light"
     },
     "output_type": "display_data"
    }
   ],
   "source": [
    "freq_words(data['text_cleaned'], 100)"
   ]
  },
  {
   "cell_type": "markdown",
   "id": "f6d762b6",
   "metadata": {},
   "source": [
    "> As we can see, now the most frequent words are not the most common words of English language. Hence now we can get more knowledge out of the tweets."
   ]
  },
  {
   "cell_type": "markdown",
   "id": "7afa5a31",
   "metadata": {},
   "source": [
    "#### Split data into train and test"
   ]
  },
  {
   "cell_type": "code",
   "execution_count": 20,
   "id": "795d993c",
   "metadata": {},
   "outputs": [],
   "source": [
    "X_train, X_test, y_train, y_test = train_test_split(data['text_cleaned'],\n",
    "                                                    data['target'], test_size=0.2, random_state=42)"
   ]
  },
  {
   "cell_type": "code",
   "execution_count": 21,
   "id": "a4b80143",
   "metadata": {},
   "outputs": [
    {
     "data": {
      "text/plain": [
       "(6090,)"
      ]
     },
     "execution_count": 21,
     "metadata": {},
     "output_type": "execute_result"
    }
   ],
   "source": [
    "X_train.shape"
   ]
  },
  {
   "cell_type": "code",
   "execution_count": 22,
   "id": "759e8705",
   "metadata": {},
   "outputs": [
    {
     "data": {
      "text/plain": [
       "(1523,)"
      ]
     },
     "execution_count": 22,
     "metadata": {},
     "output_type": "execute_result"
    }
   ],
   "source": [
    "X_test.shape"
   ]
  },
  {
   "cell_type": "markdown",
   "id": "b0a42187",
   "metadata": {},
   "source": [
    "#### Converting text into features"
   ]
  },
  {
   "cell_type": "code",
   "execution_count": 23,
   "id": "539be720",
   "metadata": {},
   "outputs": [],
   "source": [
    "tf_idf_vectorizer = TfidfVectorizer(lowercase=True)"
   ]
  },
  {
   "cell_type": "code",
   "execution_count": 24,
   "id": "f353b215",
   "metadata": {},
   "outputs": [],
   "source": [
    "X_train_vectorized = tf_idf_vectorizer.fit_transform(X_train)"
   ]
  },
  {
   "cell_type": "code",
   "execution_count": 25,
   "id": "1060bfbf",
   "metadata": {},
   "outputs": [
    {
     "name": "stdout",
     "output_type": "stream",
     "text": [
      "['ayyo', 'azimel', 'azusa', 'azwx', 'ba', 'baaaack', 'baan', 'babality', 'babalmao', 'babe']\n"
     ]
    },
    {
     "name": "stderr",
     "output_type": "stream",
     "text": [
      "/usr/local/lib/python3.9/site-packages/sklearn/utils/deprecation.py:87: FutureWarning: Function get_feature_names is deprecated; get_feature_names is deprecated in 1.0 and will be removed in 1.2. Please use get_feature_names_out instead.\n",
      "  warnings.warn(msg, category=FutureWarning)\n"
     ]
    }
   ],
   "source": [
    "print(tf_idf_vectorizer.get_feature_names()[900:910])"
   ]
  },
  {
   "cell_type": "code",
   "execution_count": 26,
   "id": "594d1288",
   "metadata": {},
   "outputs": [
    {
     "data": {
      "text/plain": [
       "(6090, 14421)"
      ]
     },
     "execution_count": 26,
     "metadata": {},
     "output_type": "execute_result"
    }
   ],
   "source": [
    "X_train_vectorized.shape"
   ]
  },
  {
   "cell_type": "code",
   "execution_count": 27,
   "id": "207b9a8a",
   "metadata": {},
   "outputs": [],
   "source": [
    "X_test_vectorized = tf_idf_vectorizer.transform(X_test)"
   ]
  },
  {
   "cell_type": "code",
   "execution_count": 28,
   "id": "a246c618",
   "metadata": {},
   "outputs": [
    {
     "data": {
      "text/plain": [
       "(1523, 14421)"
      ]
     },
     "execution_count": 28,
     "metadata": {},
     "output_type": "execute_result"
    }
   ],
   "source": [
    "X_test_vectorized.shape"
   ]
  },
  {
   "cell_type": "markdown",
   "id": "f7cbbdb9",
   "metadata": {},
   "source": [
    "#### Training the learning algorithm"
   ]
  },
  {
   "cell_type": "markdown",
   "id": "1e9ced4c",
   "metadata": {},
   "source": [
    "#### Logistic Regression"
   ]
  },
  {
   "cell_type": "code",
   "execution_count": 29,
   "id": "4ec33c44",
   "metadata": {},
   "outputs": [
    {
     "name": "stdout",
     "output_type": "stream",
     "text": [
      "\n",
      " The optimal value of C with penalty=l2 is 0.6.\n",
      "\n",
      " Max F1 score is 0.8249128919860628\n"
     ]
    },
    {
     "data": {
      "image/png": "[encoded data removed]",
      "text/plain": [
       "<Figure size 720x360 with 1 Axes>"
      ]
     },
     "metadata": {},
     "output_type": "display_data"
    },
    {
     "name": "stdout",
     "output_type": "stream",
     "text": [
      "Time taken to run this cell : 0:00:11.111070\n"
     ]
    }
   ],
   "source": [
    "start = datetime.now()\n",
    "classifier_C = [0.1,0.3,0.4,0.5,0.6] \n",
    "\n",
    "import warnings\n",
    "warnings.filterwarnings('ignore')\n",
    "cv_scores = []\n",
    "for i in classifier_C: \n",
    "    hp1={'penalty' : ['l2','l1'],\n",
    "         'C' :[i]}\n",
    "    classifier = LogisticRegression(solver='liblinear')\n",
    "\n",
    "    model11 = GridSearchCV(classifier,hp1,\n",
    "                          cv=3,scoring = 'f1',n_jobs=-1)\n",
    "    best_model1=model11.fit(X_train_vectorized, y_train)\n",
    "    Train_model_score=best_model1.score(X_train_vectorized, \n",
    "                                        y_train)\n",
    "#print(\"best_model1\")\n",
    "    cv_scores.append(Train_model_score.mean())\n",
    "\n",
    "fscore = [x for x in cv_scores]\n",
    "\n",
    "# determining best alpha\n",
    "\n",
    "optimal_C = classifier_C[fscore.index(max(fscore))]\n",
    "print('\\n The optimal value of C with penalty=l2 is {}.'.format(optimal_C))\n",
    "print(\"\\n Max F1 score is {}\".format(max(fscore)))\n",
    "\n",
    "# Plots\n",
    "fig4 = plt.figure( facecolor='c', edgecolor='k',figsize=(10,5))\n",
    "plt.plot(classifier_C, fscore,color='green', marker='o', linestyle='dashed',\n",
    "linewidth=2, markersize=12)\n",
    "\n",
    "for xy in zip(classifier_C, np.round(fscore,3)):\n",
    "    plt.annotate('(%s, %s)' % xy, xy=xy, textcoords='data')\n",
    "\n",
    "plt.xlabel('Hyper parameter C')\n",
    "plt.ylabel('F1_Score value ')\n",
    "plt.show()\n",
    "\n",
    "print(\"Time taken to run this cell :\", datetime.now() - start)"
   ]
  },
  {
   "cell_type": "code",
   "execution_count": 30,
   "id": "dabd1b58",
   "metadata": {},
   "outputs": [
    {
     "data": {
      "text/plain": [
       "LogisticRegression(C=0.6, n_jobs=-1)"
      ]
     },
     "execution_count": 30,
     "metadata": {},
     "output_type": "execute_result"
    }
   ],
   "source": [
    "best_model1 = LogisticRegression(C=optimal_C,penalty='l2', n_jobs=-1)\n",
    "best_model1.fit(X_train_vectorized, y_train)"
   ]
  },
  {
   "cell_type": "code",
   "execution_count": 31,
   "id": "d9fab22a",
   "metadata": {},
   "outputs": [
    {
     "name": "stdout",
     "output_type": "stream",
     "text": [
      "Accuracy : 0.793827971109652\n",
      "              precision    recall  f1-score   support\n",
      "\n",
      "           0       0.77      0.91      0.83       874\n",
      "           1       0.84      0.64      0.73       649\n",
      "\n",
      "    accuracy                           0.79      1523\n",
      "   macro avg       0.80      0.77      0.78      1523\n",
      "weighted avg       0.80      0.79      0.79      1523\n",
      "\n",
      "Time taken to run this cell : 0:00:11.703920\n"
     ]
    }
   ],
   "source": [
    "predictions = best_model1.predict(X_test_vectorized)\n",
    "\n",
    "print(\"Accuracy :\",metrics.accuracy_score(y_test, predictions))\n",
    "\n",
    "precision = precision_score(y_test, predictions)\n",
    "recall = recall_score(y_test, predictions)\n",
    "f1 = f1_score(y_test, predictions)\n",
    "\n",
    "print (metrics.classification_report(y_test, predictions)) \n",
    "print(\"Time taken to run this cell :\", datetime.now() - start)"
   ]
  },
  {
   "cell_type": "code",
   "execution_count": 32,
   "id": "787a84ae",
   "metadata": {},
   "outputs": [],
   "source": [
    "def make_inference(tweet,model):\n",
    "    query_vector = tf_idf_vectorizer.transform([tweet])\n",
    "    predicted_value = model.predict(query_vector)\n",
    "    return predicted_value[0]"
   ]
  },
  {
   "cell_type": "markdown",
   "id": "d7f55580",
   "metadata": {},
   "source": [
    "#### Making inferences on the model using some random text"
   ]
  },
  {
   "cell_type": "code",
   "execution_count": 33,
   "id": "2482445f",
   "metadata": {},
   "outputs": [
    {
     "data": {
      "text/plain": [
       "0"
      ]
     },
     "execution_count": 33,
     "metadata": {},
     "output_type": "execute_result"
    }
   ],
   "source": [
    "make_inference('You can use my laptop for work',best_model1)"
   ]
  },
  {
   "cell_type": "code",
   "execution_count": 34,
   "id": "b3d5ae0d",
   "metadata": {},
   "outputs": [
    {
     "data": {
      "text/plain": [
       "1"
      ]
     },
     "execution_count": 34,
     "metadata": {},
     "output_type": "execute_result"
    }
   ],
   "source": [
    "make_inference('There is forest fire in my city',best_model1)"
   ]
  },
  {
   "cell_type": "code",
   "execution_count": 35,
   "id": "91ea7dd3",
   "metadata": {},
   "outputs": [
    {
     "data": {
      "text/plain": [
       "1"
      ]
     },
     "execution_count": 35,
     "metadata": {},
     "output_type": "execute_result"
    }
   ],
   "source": [
    "make_inference('At least 15 people have been killed after an L-410 plane crashed in the Tatarstan region of Russia, according to AFP and Reuters',best_model1)"
   ]
  },
  {
   "cell_type": "code",
   "execution_count": 36,
   "id": "e3d0ea58",
   "metadata": {},
   "outputs": [
    {
     "data": {
      "text/plain": [
       "0"
      ]
     },
     "execution_count": 36,
     "metadata": {},
     "output_type": "execute_result"
    }
   ],
   "source": [
    "make_inference('The more detached you are from the stock price movement the higher returns you make as an investor',best_model1)"
   ]
  },
  {
   "cell_type": "markdown",
   "id": "16ef1c61",
   "metadata": {},
   "source": [
    "#### RandomForestClassifier"
   ]
  },
  {
   "cell_type": "code",
   "execution_count": 37,
   "id": "a9a2d6fe",
   "metadata": {},
   "outputs": [
    {
     "name": "stdout",
     "output_type": "stream",
     "text": [
      "\n",
      " The optimal value of n_estimators is.\n",
      "\n",
      " Max F1 score is 0.9861857252494244\n"
     ]
    },
    {
     "data": {
      "image/png": "[encoded data removed]",
      "text/plain": [
       "<Figure size 720x360 with 1 Axes>"
      ]
     },
     "metadata": {},
     "output_type": "display_data"
    },
    {
     "name": "stdout",
     "output_type": "stream",
     "text": [
      "Time taken to run this cell : 0:04:05.303558\n"
     ]
    }
   ],
   "source": [
    "start = datetime.now()\n",
    "n_estimators = [50,100,200,300] \n",
    "\n",
    "import warnings\n",
    "warnings.filterwarnings('ignore')\n",
    "cv_scores = []\n",
    "for i in n_estimators: \n",
    "    hp1={'n_estimators' :[i]}\n",
    "    classifier = RandomForestClassifier()\n",
    "\n",
    "    model11 = GridSearchCV(classifier,hp1,\n",
    "                          cv=3,scoring = 'f1',n_jobs=-1)\n",
    "    best_model1=model11.fit(X_train_vectorized, y_train)\n",
    "    Train_model_score=best_model1.score(X_train_vectorized, \n",
    "                                        y_train)\n",
    "#print(\"best_model1\")\n",
    "    cv_scores.append(Train_model_score.mean())\n",
    "\n",
    "fscore = [x for x in cv_scores]\n",
    "\n",
    "# determining best alpha\n",
    "\n",
    "optimal_estimators = n_estimators[fscore.index(max(fscore))]\n",
    "print('\\n The optimal value of n_estimators is {}.'.format(optimal_estimators))\n",
    "print(\"\\n Max F1 score is {}\".format(max(fscore)))\n",
    "\n",
    "# Plots\n",
    "fig4 = plt.figure( facecolor='c', edgecolor='k',figsize=(10,5))\n",
    "plt.plot(n_estimators, fscore,color='green', marker='o', linestyle='dashed',\n",
    "linewidth=2, markersize=12)\n",
    "\n",
    "for xy in zip(n_estimators, np.round(fscore,3)):\n",
    "    plt.annotate('(%s, %s)' % xy, xy=xy, textcoords='data')\n",
    "\n",
    "plt.xlabel('Hyper parameter n_estimators')\n",
    "plt.ylabel('F1_Score value ')\n",
    "plt.show()\n",
    "\n",
    "print(\"Time taken to run this cell :\", datetime.now() - start)"
   ]
  },
  {
   "cell_type": "code",
   "execution_count": 38,
   "id": "ee18bb8e",
   "metadata": {},
   "outputs": [
    {
     "data": {
      "text/plain": [
       "RandomForestClassifier(n_estimators=200)"
      ]
     },
     "execution_count": 38,
     "metadata": {},
     "output_type": "execute_result"
    }
   ],
   "source": [
    "best_model_random_forrest = RandomForestClassifier(n_estimators=optimal_estimators)\n",
    "best_model_random_forrest.fit(X_train_vectorized, y_train)"
   ]
  },
  {
   "cell_type": "code",
   "execution_count": 39,
   "id": "eac53666",
   "metadata": {},
   "outputs": [
    {
     "name": "stdout",
     "output_type": "stream",
     "text": [
      "Accuracy : 0.7793827971109653\n",
      "              precision    recall  f1-score   support\n",
      "\n",
      "           0       0.78      0.85      0.82       874\n",
      "           1       0.78      0.68      0.72       649\n",
      "\n",
      "    accuracy                           0.78      1523\n",
      "   macro avg       0.78      0.77      0.77      1523\n",
      "weighted avg       0.78      0.78      0.78      1523\n",
      "\n",
      "Time taken to run this cell : 0:04:20.675928\n"
     ]
    }
   ],
   "source": [
    "predictions = best_model_random_forrest.predict(X_test_vectorized)\n",
    "\n",
    "print(\"Accuracy :\",metrics.accuracy_score(y_test, predictions))\n",
    "\n",
    "precision = precision_score(y_test, predictions)\n",
    "recall = recall_score(y_test, predictions)\n",
    "f1 = f1_score(y_test, predictions)\n",
    "\n",
    "print (metrics.classification_report(y_test, predictions)) \n",
    "print(\"Time taken to run this cell :\", datetime.now() - start)"
   ]
  },
  {
   "cell_type": "markdown",
   "id": "78a1c5a8",
   "metadata": {},
   "source": [
    "#### Making inferences on the model using some random text"
   ]
  },
  {
   "cell_type": "code",
   "execution_count": 40,
   "id": "7a4c8825",
   "metadata": {},
   "outputs": [
    {
     "data": {
      "text/plain": [
       "0"
      ]
     },
     "execution_count": 40,
     "metadata": {},
     "output_type": "execute_result"
    }
   ],
   "source": [
    "make_inference('You can use my laptop for work',best_model_random_forrest)"
   ]
  },
  {
   "cell_type": "code",
   "execution_count": 41,
   "id": "84c80337",
   "metadata": {},
   "outputs": [
    {
     "data": {
      "text/plain": [
       "1"
      ]
     },
     "execution_count": 41,
     "metadata": {},
     "output_type": "execute_result"
    }
   ],
   "source": [
    "make_inference('There is forest fire in my city',best_model_random_forrest)"
   ]
  },
  {
   "cell_type": "code",
   "execution_count": 42,
   "id": "f9279db7",
   "metadata": {},
   "outputs": [
    {
     "data": {
      "text/plain": [
       "1"
      ]
     },
     "execution_count": 42,
     "metadata": {},
     "output_type": "execute_result"
    }
   ],
   "source": [
    "make_inference('At least 15 people have been killed after an L-410 plane crashed in the Tatarstan region of Russia, according to AFP and Reuters',best_model_random_forrest)"
   ]
  },
  {
   "cell_type": "code",
   "execution_count": 43,
   "id": "062acbaa",
   "metadata": {},
   "outputs": [
    {
     "data": {
      "text/plain": [
       "0"
      ]
     },
     "execution_count": 43,
     "metadata": {},
     "output_type": "execute_result"
    }
   ],
   "source": [
    "make_inference('The more detached you are from the stock price movement the higher returns you make as an investor',best_model_random_forrest)"
   ]
  },
  {
   "cell_type": "code",
   "execution_count": 49,
   "id": "91a168a7",
   "metadata": {},
   "outputs": [],
   "source": [
    "from prettytable import PrettyTable\n",
    "x = PrettyTable()\n",
    "x.field_names = [\"Sr.No\", \"MODEL\",\"FEATURIZATION\",\"PENALTY\" ,\"C/N_estimators\",\"ACCURACY\",\"PRECISION\",\"RECALL\"]"
   ]
  },
  {
   "cell_type": "code",
   "execution_count": 50,
   "id": "b9c83ccc",
   "metadata": {},
   "outputs": [],
   "source": [
    "x.add_row([\"1\", 'LogisticRegression', \"Tf-idf\",\"l2\",0.6,79.38,80.00,79.00])\n",
    "x.add_row([\"2\", 'RandomForrestClassifier', \"Tf-idf\",\"NA\",200,77.93,78.00,78.00])"
   ]
  },
  {
   "cell_type": "code",
   "execution_count": 51,
   "id": "230413c9",
   "metadata": {},
   "outputs": [
    {
     "name": "stdout",
     "output_type": "stream",
     "text": [
      "+-------+-------------------------+---------------+---------+----------------+----------+-----------+--------+\n",
      "| Sr.No |          MODEL          | FEATURIZATION | PENALTY | C/N_estimators | ACCURACY | PRECISION | RECALL |\n",
      "+-------+-------------------------+---------------+---------+----------------+----------+-----------+--------+\n",
      "|   1   |    LogisticRegression   |     Tf-idf    |    l2   |      0.6       |  79.38   |    80.0   |  79.0  |\n",
      "|   2   | RandomForrestClassifier |     Tf-idf    |    NA   |      200       |  77.93   |    78.0   |  78.0  |\n",
      "+-------+-------------------------+---------------+---------+----------------+----------+-----------+--------+\n"
     ]
    }
   ],
   "source": [
    "print(x)"
   ]
  },
  {
   "cell_type": "code",
   "execution_count": null,
   "id": "dd45ae5f",
   "metadata": {},
   "outputs": [],
   "source": []
  }
 ],
 "metadata": {
  "kernelspec": {
   "display_name": "Python 3",
   "language": "python",
   "name": "python3"
  },
  "language_info": {
   "codemirror_mode": {
    "name": "ipython",
    "version": 3
   },
   "file_extension": ".py",
   "mimetype": "text/x-python",
   "name": "python",
   "nbconvert_exporter": "python",
   "pygments_lexer": "ipython3",
   "version": "3.9.6"
  }
 },
 "nbformat": 4,
 "nbformat_minor": 5
}
